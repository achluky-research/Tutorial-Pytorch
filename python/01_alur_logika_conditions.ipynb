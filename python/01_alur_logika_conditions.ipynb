{
 "cells": [
  {
   "cell_type": "markdown",
   "id": "41640808",
   "metadata": {
    "vscode": {
     "languageId": "plaintext"
    }
   },
   "source": [
    "# TUTORIAL 1: PENGGUNAAN ALUR LOGIKA (CONDITIONS)\n",
    "\n",
    "Alur logika (conditions) adalah cara untuk membuat program yang dapat mengambil \n",
    "keputusan berdasarkan kondisi tertentu. Python menggunakan statement if, elif, \n",
    "dan else untuk mengimplementasikan alur logika.\n",
    "\n",
    "STRUKTUR DASAR:\n",
    "```\n",
    "if kondisi:\n",
    "    # kode yang dijalankan jika kondisi True\n",
    "elif kondisi_lain:\n",
    "    # kode yang dijalankan jika kondisi_lain True\n",
    "else:\n",
    "    # kode yang dijalankan jika semua kondisi False\n",
    "```"
   ]
  },
  {
   "cell_type": "code",
   "execution_count": null,
   "id": "1663d3fc",
   "metadata": {},
   "outputs": [
    {
     "name": "stdout",
     "output_type": "stream",
     "text": [
      "\n",
      "1. BASIC IF STATEMENT\n",
      "--------------------\n",
      "Anda berumur 18 tahun, Anda sudah dewasa!\n",
      "Halo Budi, selamat datang!\n"
     ]
    }
   ],
   "source": [
    "# ==================\n",
    "# 1. BASIC IF STATEMENT\n",
    "# ==================\n",
    "print(\"\\n1. BASIC IF STATEMENT\")\n",
    "print(\"-\" * 20)\n",
    "\n",
    "umur = 18\n",
    "if umur >= 18:\n",
    "    print(f\"Anda berumur {umur} tahun, Anda sudah dewasa!\")\n",
    "\n",
    "# Contoh dengan input\n",
    "nama = \"Budi\"\n",
    "if nama == \"Budi\":\n",
    "    print(f\"Halo {nama}, selamat datang!\")\n",
    "\n"
   ]
  },
  {
   "cell_type": "code",
   "execution_count": 4,
   "id": "064e6b7e",
   "metadata": {},
   "outputs": [
    {
     "name": "stdout",
     "output_type": "stream",
     "text": [
      "\n",
      "2. IF-ELSE STATEMENT\n",
      "--------------------\n",
      "Nilai 75: LULUS\n",
      "Hari ini cerah, cocok untuk jalan-jalan!\n"
     ]
    }
   ],
   "source": [
    "# ==================\n",
    "# 2. IF-ELSE STATEMENT\n",
    "# ==================\n",
    "print(\"\\n2. IF-ELSE STATEMENT\")\n",
    "print(\"-\" * 20)\n",
    "\n",
    "nilai = 75\n",
    "if nilai >= 70:\n",
    "    print(f\"Nilai {nilai}: LULUS\")\n",
    "else:\n",
    "    print(f\"Nilai {nilai}: TIDAK LULUS\")\n",
    "\n",
    "# Contoh dengan boolean\n",
    "cuaca_cerah = True\n",
    "if cuaca_cerah:\n",
    "    print(\"Hari ini cerah, cocok untuk jalan-jalan!\")\n",
    "else:\n",
    "    print(\"Hari ini mendung, lebih baik di rumah saja.\")"
   ]
  },
  {
   "cell_type": "code",
   "execution_count": 5,
   "id": "a5e03955",
   "metadata": {},
   "outputs": [
    {
     "name": "stdout",
     "output_type": "stream",
     "text": [
      "\n",
      "3. IF-ELIF-ELSE STATEMENT\n",
      "--------------------\n",
      "Nilai: 85, Grade: B\n",
      "Umur: 25, Kategori: Dewasa\n"
     ]
    }
   ],
   "source": [
    "# ==================\n",
    "# 3. IF-ELIF-ELSE STATEMENT\n",
    "# ==================\n",
    "print(\"\\n3. IF-ELIF-ELSE STATEMENT\")\n",
    "print(\"-\" * 20)\n",
    "\n",
    "nilai_siswa = 85\n",
    "\n",
    "if nilai_siswa >= 90:\n",
    "    grade = \"A\"\n",
    "elif nilai_siswa >= 80:\n",
    "    grade = \"B\"\n",
    "elif nilai_siswa >= 70:\n",
    "    grade = \"C\"\n",
    "elif nilai_siswa >= 60:\n",
    "    grade = \"D\"\n",
    "else:\n",
    "    grade = \"E\"\n",
    "\n",
    "print(f\"Nilai: {nilai_siswa}, Grade: {grade}\")\n",
    "\n",
    "# Contoh dengan kategori umur\n",
    "umur_pengguna = 25\n",
    "\n",
    "if umur_pengguna < 13:\n",
    "    kategori = \"Anak-anak\"\n",
    "elif umur_pengguna < 20:\n",
    "    kategori = \"Remaja\"\n",
    "elif umur_pengguna < 60:\n",
    "    kategori = \"Dewasa\"\n",
    "else:\n",
    "    kategori = \"Lansia\"\n",
    "\n",
    "print(f\"Umur: {umur_pengguna}, Kategori: {kategori}\")"
   ]
  },
  {
   "cell_type": "code",
   "execution_count": 6,
   "id": "6b18b42a",
   "metadata": {},
   "outputs": [
    {
     "name": "stdout",
     "output_type": "stream",
     "text": [
      "\n",
      "4. OPERATOR PERBANDINGAN\n",
      "--------------------\n",
      "a = 10, b = 5\n",
      "a > b: True\n",
      "a < b: False\n",
      "a >= b: True\n",
      "a <= b: False\n",
      "a == b: False\n",
      "a != b: True\n"
     ]
    }
   ],
   "source": [
    "# ==================\n",
    "# 4. OPERATOR PERBANDINGAN\n",
    "# ==================\n",
    "print(\"\\n4. OPERATOR PERBANDINGAN\")\n",
    "print(\"-\" * 20)\n",
    "\n",
    "a = 10\n",
    "b = 5\n",
    "\n",
    "print(f\"a = {a}, b = {b}\")\n",
    "print(f\"a > b: {a > b}\")      # Lebih besar\n",
    "print(f\"a < b: {a < b}\")      # Lebih kecil\n",
    "print(f\"a >= b: {a >= b}\")    # Lebih besar atau sama dengan\n",
    "print(f\"a <= b: {a <= b}\")    # Lebih kecil atau sama dengan\n",
    "print(f\"a == b: {a == b}\")    # Sama dengan\n",
    "print(f\"a != b: {a != b}\")    # Tidak sama dengan"
   ]
  },
  {
   "cell_type": "code",
   "execution_count": 7,
   "id": "a6e0feef",
   "metadata": {},
   "outputs": [
    {
     "name": "stdout",
     "output_type": "stream",
     "text": [
      "\n",
      "5. OPERATOR LOGIKA\n",
      "--------------------\n",
      "Boleh mengendarai mobil\n",
      "Bisa pergi berlibur!\n",
      "Sedang hujan, lebih baik di dalam\n"
     ]
    }
   ],
   "source": [
    "# ==================\n",
    "# 5. OPERATOR LOGIKA\n",
    "# ==================\n",
    "print(\"\\n5. OPERATOR LOGIKA\")\n",
    "print(\"-\" * 20)\n",
    "\n",
    "# AND - semua kondisi harus True\n",
    "umur = 20\n",
    "punya_sim = True\n",
    "\n",
    "if umur >= 17 and punya_sim:\n",
    "    print(\"Boleh mengendarai mobil\")\n",
    "else:\n",
    "    print(\"Belum boleh mengendarai mobil\")\n",
    "\n",
    "# OR - salah satu kondisi harus True\n",
    "cuaca_cerah = False\n",
    "libur_kerja = True\n",
    "\n",
    "if cuaca_cerah or libur_kerja:\n",
    "    print(\"Bisa pergi berlibur!\")\n",
    "else:\n",
    "    print(\"Lebih baik tetap di rumah\")\n",
    "\n",
    "# NOT - membalik kondisi\n",
    "hujan = True\n",
    "if not hujan:\n",
    "    print(\"Tidak hujan, bisa pergi keluar\")\n",
    "else:\n",
    "    print(\"Sedang hujan, lebih baik di dalam\")"
   ]
  },
  {
   "cell_type": "code",
   "execution_count": 8,
   "id": "b4701648",
   "metadata": {},
   "outputs": [
    {
     "name": "stdout",
     "output_type": "stream",
     "text": [
      "\n",
      "6. NESTED CONDITIONS\n",
      "--------------------\n",
      "Umur memenuhi syarat\n",
      "Memiliki KTP\n",
      "Memiliki pekerjaan\n",
      "✓ LOLOS semua persyaratan untuk mengajukan kredit!\n"
     ]
    }
   ],
   "source": [
    "# ==================\n",
    "# 6. NESTED CONDITIONS (IF BERSARANG)\n",
    "# ==================\n",
    "print(\"\\n6. NESTED CONDITIONS\")\n",
    "print(\"-\" * 20)\n",
    "\n",
    "umur = 22\n",
    "punya_ktp = True\n",
    "punya_pekerjaan = True\n",
    "\n",
    "if umur >= 17:\n",
    "    print(\"Umur memenuhi syarat\")\n",
    "    if punya_ktp:\n",
    "        print(\"Memiliki KTP\")\n",
    "        if punya_pekerjaan:\n",
    "            print(\"Memiliki pekerjaan\")\n",
    "            print(\"✓ LOLOS semua persyaratan untuk mengajukan kredit!\")\n",
    "        else:\n",
    "            print(\"✗ Belum memiliki pekerjaan\")\n",
    "    else:\n",
    "        print(\"✗ Belum memiliki KTP\")\n",
    "else:\n",
    "    print(\"✗ Umur belum memenuhi syarat\")"
   ]
  },
  {
   "cell_type": "code",
   "execution_count": 9,
   "id": "e09ac3ad",
   "metadata": {},
   "outputs": [
    {
     "name": "stdout",
     "output_type": "stream",
     "text": [
      "\n",
      "7. MULTIPLE CONDITIONS\n",
      "--------------------\n",
      "Cuaca sempurna untuk outdoor activity!\n",
      "Suhu: 25°C, Kelembaban: 60%, Angin: 10km/h\n"
     ]
    }
   ],
   "source": [
    "# ==================\n",
    "# 7. MULTIPLE CONDITIONS\n",
    "# ==================\n",
    "print(\"\\n7. MULTIPLE CONDITIONS\")\n",
    "print(\"-\" * 20)\n",
    "\n",
    "suhu = 25\n",
    "kelembaban = 60\n",
    "angin = 10\n",
    "\n",
    "# Menggunakan multiple conditions\n",
    "if 20 <= suhu <= 30 and kelembaban < 70 and angin < 15:\n",
    "    print(\"Cuaca sempurna untuk outdoor activity!\")\n",
    "    print(f\"Suhu: {suhu}°C, Kelembaban: {kelembaban}%, Angin: {angin}km/h\")\n",
    "elif suhu > 30:\n",
    "    print(\"Terlalu panas untuk aktivitas outdoor\")\n",
    "elif suhu < 20:\n",
    "    print(\"Terlalu dingin untuk aktivitas outdoor\")\n",
    "elif kelembaban >= 70:\n",
    "    print(\"Terlalu lembab untuk aktivitas outdoor\")\n",
    "else:\n",
    "    print(\"Cuaca cukup baik, tapi berhati-hatilah\")"
   ]
  },
  {
   "cell_type": "code",
   "execution_count": 10,
   "id": "5df43960",
   "metadata": {},
   "outputs": [
    {
     "name": "stdout",
     "output_type": "stream",
     "text": [
      "\n",
      "8. TERNARY OPERATOR\n",
      "--------------------\n",
      "Umur: 16, Status: Belum Dewasa\n",
      "Angka 7 adalah: Ganjil\n"
     ]
    }
   ],
   "source": [
    "# ==================\n",
    "# 8. TERNARY OPERATOR (CONDITIONAL EXPRESSION)\n",
    "# ==================\n",
    "print(\"\\n8. TERNARY OPERATOR\")\n",
    "print(\"-\" * 20)\n",
    "\n",
    "# Syntax: nilai_jika_true if kondisi else nilai_jika_false\n",
    "umur = 16\n",
    "status = \"Dewasa\" if umur >= 18 else \"Belum Dewasa\"\n",
    "print(f\"Umur: {umur}, Status: {status}\")\n",
    "\n",
    "# Contoh dengan fungsi\n",
    "def cek_genap_ganjil(angka):\n",
    "    return \"Genap\" if angka % 2 == 0 else \"Ganjil\"\n",
    "\n",
    "angka = 7\n",
    "print(f\"Angka {angka} adalah: {cek_genap_ganjil(angka)}\")"
   ]
  },
  {
   "cell_type": "code",
   "execution_count": 11,
   "id": "39cac9b5",
   "metadata": {},
   "outputs": [
    {
     "name": "stdout",
     "output_type": "stream",
     "text": [
      "\n",
      "9. MEMBERSHIP OPERATORS\n",
      "--------------------\n",
      "jeruk adalah salah satu buah favorit saya!\n",
      "Kalimat ini membahas tentang Python\n"
     ]
    }
   ],
   "source": [
    "# ==================\n",
    "# 9. MEMBERSHIP OPERATORS (in, not in)\n",
    "# ==================\n",
    "print(\"\\n9. MEMBERSHIP OPERATORS\")\n",
    "print(\"-\" * 20)\n",
    "\n",
    "# Mengecek apakah suatu nilai ada dalam sequence\n",
    "buah_favorit = [\"apel\", \"jeruk\", \"pisang\", \"anggur\"]\n",
    "buah = \"jeruk\"\n",
    "\n",
    "if buah in buah_favorit:\n",
    "    print(f\"{buah} adalah salah satu buah favorit saya!\")\n",
    "else:\n",
    "    print(f\"{buah} bukan buah favorit saya\")\n",
    "\n",
    "# Mengecek karakter dalam string\n",
    "kalimat = \"Python adalah bahasa pemrograman yang mudah\"\n",
    "if \"Python\" in kalimat:\n",
    "    print(\"Kalimat ini membahas tentang Python\")"
   ]
  },
  {
   "cell_type": "code",
   "execution_count": 12,
   "id": "5e8c1d4f",
   "metadata": {},
   "outputs": [
    {
     "name": "stdout",
     "output_type": "stream",
     "text": [
      "\n",
      "10. IDENTITY OPERATORS\n",
      "--------------------\n",
      "x adalah None\n",
      "y is z: False\n",
      "y == z: True\n"
     ]
    }
   ],
   "source": [
    "# ==================\n",
    "# 10. IDENTITY OPERATORS (is, is not)\n",
    "# ==================\n",
    "print(\"\\n10. IDENTITY OPERATORS\")\n",
    "print(\"-\" * 20)\n",
    "\n",
    "# is dan is not mengecek apakah objek adalah objek yang sama\n",
    "x = None\n",
    "if x is None:\n",
    "    print(\"x adalah None\")\n",
    "\n",
    "y = []\n",
    "z = []\n",
    "print(f\"y is z: {y is z}\")  # False, karena objek berbeda\n",
    "print(f\"y == z: {y == z}\")  # True, karena nilai sama"
   ]
  },
  {
   "cell_type": "code",
   "execution_count": 13,
   "id": "6c23c49e",
   "metadata": {},
   "outputs": [
    {
     "name": "stdout",
     "output_type": "stream",
     "text": [
      "\n",
      "==================================================\n",
      "TIPS DAN BEST PRACTICES:\n",
      "==================================================\n",
      "\n",
      "1. Gunakan operator perbandingan yang tepat (==, !=, <, >, <=, >=)\n",
      "2. Kombinasikan kondisi dengan and, or, not untuk logika yang kompleks\n",
      "3. Gunakan elif untuk multiple conditions yang berurutan\n",
      "4. Hindari nested if yang terlalu dalam (maksimal 3-4 level)\n",
      "5. Gunakan ternary operator untuk kondisi sederhana\n",
      "6. Selalu pertimbangkan edge cases (nilai None, 0, string kosong)\n",
      "7. Gunakan parentheses untuk memperjelas prioritas operasi\n",
      "8. Buat fungsi untuk logika yang kompleks agar kode lebih readable\n",
      "\n",
      "\n",
      "==================================================\n",
      "LATIHAN:\n",
      "==================================================\n",
      "\n",
      "Coba buat program dengan conditions untuk:\n",
      "1. Sistem penilaian mahasiswa (A, B, C, D, E)\n",
      "2. Penentuan diskon berdasarkan total belanja\n",
      "3. Validasi input form (nama, email, password)\n",
      "4. Game sederhana (tebak angka)\n",
      "5. Konverter suhu dengan multiple pilihan\n",
      "\n"
     ]
    }
   ],
   "source": [
    "# ==================\n",
    "# TIPS DAN BEST PRACTICES\n",
    "# ==================\n",
    "print(\"\\n\" + \"=\"*50)\n",
    "print(\"TIPS DAN BEST PRACTICES:\")\n",
    "print(\"=\"*50)\n",
    "print(\"\"\"\n",
    "1. Gunakan operator perbandingan yang tepat (==, !=, <, >, <=, >=)\n",
    "2. Kombinasikan kondisi dengan and, or, not untuk logika yang kompleks\n",
    "3. Gunakan elif untuk multiple conditions yang berurutan\n",
    "4. Hindari nested if yang terlalu dalam (maksimal 3-4 level)\n",
    "5. Gunakan ternary operator untuk kondisi sederhana\n",
    "6. Selalu pertimbangkan edge cases (nilai None, 0, string kosong)\n",
    "7. Gunakan parentheses untuk memperjelas prioritas operasi\n",
    "8. Buat fungsi untuk logika yang kompleks agar kode lebih readable\n",
    "\"\"\")\n",
    "\n",
    "print(\"\\n\" + \"=\"*50)\n",
    "print(\"LATIHAN:\")\n",
    "print(\"=\"*50)\n",
    "print(\"\"\"\n",
    "Coba buat program dengan conditions untuk:\n",
    "1. Sistem penilaian mahasiswa (A, B, C, D, E)\n",
    "2. Penentuan diskon berdasarkan total belanja\n",
    "3. Validasi input form (nama, email, password)\n",
    "4. Game sederhana (tebak angka)\n",
    "5. Konverter suhu dengan multiple pilihan\n",
    "\"\"\")"
   ]
  },
  {
   "cell_type": "code",
   "execution_count": null,
   "id": "838826e3",
   "metadata": {},
   "outputs": [],
   "source": []
  }
 ],
 "metadata": {
  "kernelspec": {
   "display_name": ".env",
   "language": "python",
   "name": "python3"
  },
  "language_info": {
   "codemirror_mode": {
    "name": "ipython",
    "version": 3
   },
   "file_extension": ".py",
   "mimetype": "text/x-python",
   "name": "python",
   "nbconvert_exporter": "python",
   "pygments_lexer": "ipython3",
   "version": "3.11.4"
  }
 },
 "nbformat": 4,
 "nbformat_minor": 5
}
