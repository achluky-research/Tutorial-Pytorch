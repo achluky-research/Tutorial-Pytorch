{
 "cells": [
  {
   "cell_type": "markdown",
   "id": "1580997c",
   "metadata": {},
   "source": [
    "# TUTORIAL 2: PENGGUNAAN PERULANGAN (LOOPS)\n",
    "\n",
    "Perulangan (loops) adalah struktur kontrol yang memungkinkan kita untuk \n",
    "menjalankan blok kode berulang kali. Python memiliki dua jenis loop utama:\n",
    "1. for loop - untuk iterasi dengan jumlah yang diketahui atau pada sequence\n",
    "2. while loop - untuk iterasi berdasarkan kondisi\n",
    "\n",
    "KEGUNAAN LOOPS:\n",
    "- Menghemat penulisan kode yang berulang\n",
    "- Memproses data dalam collection (list, tuple, dict, string)\n",
    "- Melakukan operasi berulang sampai kondisi tertentu tercapai\n"
   ]
  },
  {
   "cell_type": "markdown",
   "id": "2857bfc0",
   "metadata": {},
   "source": [
    "Contoh code"
   ]
  },
  {
   "cell_type": "markdown",
   "id": "51d8e860",
   "metadata": {},
   "source": [
    "# FOR LOOP\n",
    "\n",
    "For loop dalam Python adalah salah satu jenis perulangan yang memungkinkan kita untuk melakukan eksekusi blok kode berulang kali untuk setiap elemen dalam suatu urutan (seperti list, tuple, string, atau rentang angka). Dalam for loop, kita tidak perlu mendeklarasikan variabel penghitungan secara manual, karena Python secara otomatis menangani perulangan untuk setiap elemen dalam urutan tersebut.\n",
    "```\n",
    "for variabel in urutan:\n",
    "    # blok kode yang dijalankan untuk setiap elemen dalam urutan\n",
    "```\n",
    "\n",
    "<code>variabel</code> adalah nama variabel yang digunakan untuk menyimpan elemen yang sedang diproses dalam iterasi saat itu. <code>urutan</code> adalah koleksi data yang bisa berupa list, tuple, string, atau jenis iterable lainnya."
   ]
  },
  {
   "cell_type": "code",
   "execution_count": null,
   "id": "0957a430",
   "metadata": {},
   "outputs": [
    {
     "name": "stdout",
     "output_type": "stream",
     "text": [
      "\n",
      "1. FOR LOOP - BASIC\n",
      "--------------------\n",
      "Loop dengan range(5):\n",
      "Iterasi ke-0\n",
      "Iterasi ke-1\n",
      "Iterasi ke-2\n",
      "Iterasi ke-3\n",
      "Iterasi ke-4\n",
      "\n",
      "Loop dengan range(2, 8):\n",
      "Angka: 2\n",
      "Angka: 3\n",
      "Angka: 4\n",
      "Angka: 5\n",
      "Angka: 6\n",
      "Angka: 7\n",
      "\n",
      "Loop dengan range(0, 10, 2) - step 2:\n",
      "Angka genap: 0\n",
      "Angka genap: 2\n",
      "Angka genap: 4\n",
      "Angka genap: 6\n",
      "Angka genap: 8\n"
     ]
    }
   ],
   "source": [
    "# ==================\n",
    "# 1. FOR LOOP - BASIC\n",
    "# ==================\n",
    "print(\"\\n1. FOR LOOP - BASIC\")\n",
    "print(\"-\" * 20)\n",
    "\n",
    "# Loop dengan range()- range(start, stop, step)\n",
    "print(\"Loop dengan range(5):\")\n",
    "for i in range(5):\n",
    "    print(f\"Iterasi ke-{i}\")\n",
    "\n",
    "print(\"\\nLoop dengan range(2, 8):\")\n",
    "for i in range(2, 8): \n",
    "    print(f\"Angka: {i}\")\n",
    "\n",
    "print(\"\\nLoop dengan range(0, 10, 2) - step 2:\")\n",
    "for i in range(0, 10, 2):\n",
    "    print(f\"Angka genap: {i}\")"
   ]
  },
  {
   "cell_type": "markdown",
   "id": "c17fba60",
   "metadata": {},
   "source": [
    "Contoh code FOR LOOP pada LIST"
   ]
  },
  {
   "cell_type": "code",
   "execution_count": 3,
   "id": "d4f52f2a",
   "metadata": {},
   "outputs": [
    {
     "name": "stdout",
     "output_type": "stream",
     "text": [
      "\n",
      "2. FOR LOOP DENGAN LIST\n",
      "--------------------\n",
      "Iterasi langsung pada elemen:\n",
      "Saya suka makan apel\n",
      "Saya suka makan jeruk\n",
      "Saya suka makan pisang\n",
      "Saya suka makan anggur\n",
      "Saya suka makan mangga\n",
      "\n",
      "Iterasi dengan index menggunakan enumerate:\n",
      "1. apel\n",
      "2. jeruk\n",
      "3. pisang\n",
      "4. anggur\n",
      "5. mangga\n",
      "\n",
      "Iterasi hanya index:\n",
      "Index 0: apel\n",
      "Index 1: jeruk\n",
      "Index 2: pisang\n",
      "Index 3: anggur\n",
      "Index 4: mangga\n"
     ]
    }
   ],
   "source": [
    "\n",
    "# ==================\n",
    "# 2. FOR LOOP DENGAN LIST\n",
    "# ==================\n",
    "print(\"\\n2. FOR LOOP DENGAN LIST\")\n",
    "print(\"-\" * 20)\n",
    "\n",
    "buah_buahan = [\"apel\", \"jeruk\", \"pisang\", \"anggur\", \"mangga\"]\n",
    "\n",
    "print(\"Iterasi langsung pada elemen:\")\n",
    "for buah in buah_buahan:\n",
    "    print(f\"Saya suka makan {buah}\")\n",
    "\n",
    "print(\"\\nIterasi dengan index menggunakan enumerate:\")\n",
    "for index, buah in enumerate(buah_buahan):\n",
    "    print(f\"{index + 1}. {buah}\")\n",
    "\n",
    "print(\"\\nIterasi hanya index:\")\n",
    "for i in range(len(buah_buahan)):\n",
    "    print(f\"Index {i}: {buah_buahan[i]}\")"
   ]
  },
  {
   "cell_type": "markdown",
   "id": "27332943",
   "metadata": {},
   "source": [
    "Contoh code FOR LOOP pada STRING"
   ]
  },
  {
   "cell_type": "code",
   "execution_count": 4,
   "id": "be269d26",
   "metadata": {},
   "outputs": [
    {
     "name": "stdout",
     "output_type": "stream",
     "text": [
      "\n",
      "3. FOR LOOP DENGAN STRING\n",
      "--------------------\n",
      "Mengiterasi karakter dalam 'Python':\n",
      "Huruf: P\n",
      "Huruf: y\n",
      "Huruf: t\n",
      "Huruf: h\n",
      "Huruf: o\n",
      "Huruf: n\n",
      "\n",
      "Dalam nama 'Budi Santoso' terdapat 5 huruf vokal\n"
     ]
    }
   ],
   "source": [
    "\n",
    "# ==================\n",
    "# 3. FOR LOOP DENGAN STRING\n",
    "# ==================\n",
    "print(\"\\n3. FOR LOOP DENGAN STRING\")\n",
    "print(\"-\" * 20)\n",
    "\n",
    "kata = \"Python\"\n",
    "print(f\"Mengiterasi karakter dalam '{kata}':\")\n",
    "for huruf in kata:\n",
    "    print(f\"Huruf: {huruf}\")\n",
    "\n",
    "# Menghitung karakter\n",
    "nama = \"Budi Santoso\"\n",
    "jumlah_vokal = 0\n",
    "vokal = \"aeiouAEIOU\"\n",
    "\n",
    "for huruf in nama:\n",
    "    if huruf in vokal:\n",
    "        jumlah_vokal += 1\n",
    "\n",
    "print(f\"\\nDalam nama '{nama}' terdapat {jumlah_vokal} huruf vokal\")\n"
   ]
  },
  {
   "cell_type": "markdown",
   "id": "288509be",
   "metadata": {},
   "source": [
    "Contoh code FOR LOOP pada DICTIONARY"
   ]
  },
  {
   "cell_type": "code",
   "execution_count": 5,
   "id": "73d93743",
   "metadata": {},
   "outputs": [
    {
     "name": "stdout",
     "output_type": "stream",
     "text": [
      "\n",
      "4. FOR LOOP DENGAN DICTIONARY\n",
      "--------------------\n",
      "Iterasi key:\n",
      "Key: nama\n",
      "Key: umur\n",
      "Key: jurusan\n",
      "Key: ipk\n",
      "\n",
      "Iterasi key dan value:\n",
      "nama: Andi\n",
      "umur: 20\n",
      "jurusan: Informatika\n",
      "ipk: 3.75\n",
      "\n",
      "Hanya value:\n",
      "Value: Andi\n",
      "Value: 20\n",
      "Value: Informatika\n",
      "Value: 3.75\n"
     ]
    }
   ],
   "source": [
    "# ==================\n",
    "# 4. FOR LOOP DENGAN DICTIONARY\n",
    "# ==================\n",
    "print(\"\\n4. FOR LOOP DENGAN DICTIONARY\")\n",
    "print(\"-\" * 20)\n",
    "\n",
    "mahasiswa = {\n",
    "    \"nama\": \"Andi\",\n",
    "    \"umur\": 20,\n",
    "    \"jurusan\": \"Informatika\",\n",
    "    \"ipk\": 3.75\n",
    "}\n",
    "\n",
    "print(\"Iterasi key:\")\n",
    "for key in mahasiswa:\n",
    "    print(f\"Key: {key}\")\n",
    "\n",
    "print(\"\\nIterasi key dan value:\")\n",
    "for key, value in mahasiswa.items():\n",
    "    print(f\"{key}: {value}\")\n",
    "\n",
    "print(\"\\nHanya value:\")\n",
    "for value in mahasiswa.values():\n",
    "    print(f\"Value: {value}\")"
   ]
  },
  {
   "cell_type": "markdown",
   "id": "b0ad4db6",
   "metadata": {},
   "source": [
    "Contoh code NESTED FOR LOOP "
   ]
  },
  {
   "cell_type": "code",
   "execution_count": 6,
   "id": "6294e7e0",
   "metadata": {},
   "outputs": [
    {
     "name": "stdout",
     "output_type": "stream",
     "text": [
      "\n",
      "5. NESTED FOR LOOP\n",
      "--------------------\n",
      "Tabel perkalian 3x3:\n",
      "1 x 1 =  1  1 x 2 =  2  1 x 3 =  3  \n",
      "2 x 1 =  2  2 x 2 =  4  2 x 3 =  6  \n",
      "3 x 1 =  3  3 x 2 =  6  3 x 3 =  9  \n",
      "\n",
      "Pola segitiga:\n",
      "*\n",
      "**\n",
      "***\n",
      "****\n",
      "*****\n"
     ]
    }
   ],
   "source": [
    "\n",
    "# ==================\n",
    "# 5. NESTED FOR LOOP\n",
    "# ==================\n",
    "print(\"\\n5. NESTED FOR LOOP\")\n",
    "print(\"-\" * 20)\n",
    "\n",
    "print(\"Tabel perkalian 3x3:\")\n",
    "for i in range(1, 4):\n",
    "    for j in range(1, 4):\n",
    "        hasil = i * j\n",
    "        print(f\"{i} x {j} = {hasil:2d}\", end=\"  \")\n",
    "    print()  # New line setelah setiap baris\n",
    "\n",
    "print(\"\\nPola segitiga:\")\n",
    "for i in range(1, 6):\n",
    "    for j in range(i):\n",
    "        print(\"*\", end=\"\")\n",
    "    print()  # New line setelah setiap baris\n"
   ]
  },
  {
   "cell_type": "code",
   "execution_count": 7,
   "id": "cf74e814",
   "metadata": {},
   "outputs": [
    {
     "name": "stdout",
     "output_type": "stream",
     "text": [
      "\n",
      "6. WHILE LOOP - BASIC\n",
      "--------------------\n",
      "Countdown dengan while loop:\n",
      "Counter: 5\n",
      "Counter: 4\n",
      "Counter: 3\n",
      "Counter: 2\n",
      "Counter: 1\n",
      "Selesai!\n",
      "\n",
      "Validasi input dengan while loop:\n",
      "Password valid!\n"
     ]
    }
   ],
   "source": [
    "\n",
    "# ==================\n",
    "# 6. WHILE LOOP - BASIC\n",
    "# ==================\n",
    "print(\"\\n6. WHILE LOOP - BASIC\")\n",
    "print(\"-\" * 20)\n",
    "\n",
    "print(\"Countdown dengan while loop:\")\n",
    "counter = 5\n",
    "while counter > 0:\n",
    "    print(f\"Counter: {counter}\")\n",
    "    counter -= 1\n",
    "print(\"Selesai!\")\n",
    "\n",
    "# Input validation dengan while loop\n",
    "print(\"\\nValidasi input dengan while loop:\")\n",
    "password = \"\"\n",
    "while len(password) < 8:\n",
    "    password = \"password123\"  # Simulasi input\n",
    "    if len(password) < 8:\n",
    "        print(\"Password terlalu pendek, minimal 8 karakter\")\n",
    "        break  # Keluar dari simulasi\n",
    "    else:\n",
    "        print(\"Password valid!\")\n"
   ]
  },
  {
   "cell_type": "code",
   "execution_count": 8,
   "id": "d643067a",
   "metadata": {},
   "outputs": [
    {
     "name": "stdout",
     "output_type": "stream",
     "text": [
      "\n",
      "7. WHILE LOOP DENGAN KONDISI KOMPLEKS\n",
      "--------------------\n",
      "Game tebak angka! (Target: 2 - untuk simulasi)\n",
      "Attempt 1: Menebak 10\n",
      "Terlalu besar!\n",
      "Attempt 2: Menebak 9\n",
      "Terlalu besar!\n",
      "Attempt 3: Menebak 4\n",
      "Game over! Angka yang benar adalah 2\n"
     ]
    }
   ],
   "source": [
    "\n",
    "# ==================\n",
    "# 7. WHILE LOOP DENGAN KONDISI KOMPLEKS\n",
    "# ==================\n",
    "print(\"\\n7. WHILE LOOP DENGAN KONDISI KOMPLEKS\")\n",
    "print(\"-\" * 20)\n",
    "\n",
    "# Game tebak angka (simulasi)\n",
    "import random\n",
    "\n",
    "target = random.randint(1, 10)\n",
    "tebakan = 0\n",
    "attempts = 0\n",
    "max_attempts = 3\n",
    "\n",
    "print(f\"Game tebak angka! (Target: {target} - untuk simulasi)\")\n",
    "while tebakan != target and attempts < max_attempts:\n",
    "    attempts += 1\n",
    "    tebakan = random.randint(1, 10)  # Simulasi tebakan\n",
    "    print(f\"Attempt {attempts}: Menebak {tebakan}\")\n",
    "    \n",
    "    if tebakan == target:\n",
    "        print(f\"Benar! Angka {target} ditebak dalam {attempts} percobaan\")\n",
    "    elif attempts == max_attempts:\n",
    "        print(f\"Game over! Angka yang benar adalah {target}\")\n",
    "    elif tebakan < target:\n",
    "        print(\"Terlalu kecil!\")\n",
    "    else:\n",
    "        print(\"Terlalu besar!\")\n"
   ]
  },
  {
   "cell_type": "markdown",
   "id": "554974c3",
   "metadata": {},
   "source": [
    "break dan continue dalam For Loop\n",
    "1. break: Menghentikan perulangan lebih cepat (keluar dari perulangan).\n",
    "2. continue: Melewati iterasi saat ini dan melanjutkan ke iterasi berikutnya."
   ]
  },
  {
   "cell_type": "code",
   "execution_count": 9,
   "id": "224b4659",
   "metadata": {},
   "outputs": [
    {
     "name": "stdout",
     "output_type": "stream",
     "text": [
      "\n",
      "8. BREAK DAN CONTINUE\n",
      "--------------------\n",
      "Contoh BREAK - berhenti ketika menemukan angka 7:\n",
      "Angka: 1\n",
      "Angka: 2\n",
      "Angka: 3\n",
      "Angka: 4\n",
      "Angka: 5\n",
      "Angka: 6\n",
      "Menemukan angka 7, berhenti!\n",
      "\n",
      "Contoh CONTINUE - skip angka genap:\n",
      "Angka ganjil: 1\n",
      "Angka ganjil: 3\n",
      "Angka ganjil: 5\n",
      "Angka ganjil: 7\n",
      "Angka ganjil: 9\n",
      "\n",
      "Combined break dan continue:\n",
      "Angka: 1\n",
      "Angka: 2\n",
      "Angka: 4\n",
      "Angka: 5\n",
      "Angka: 7\n",
      "Angka: 8\n",
      "Angka: 10\n",
      "Angka: 11\n",
      "Angka: 13\n",
      "Angka: 14\n"
     ]
    }
   ],
   "source": [
    "\n",
    "# ==================\n",
    "# 8. BREAK DAN CONTINUE\n",
    "# ==================\n",
    "print(\"\\n8. BREAK DAN CONTINUE\")\n",
    "print(\"-\" * 20)\n",
    "\n",
    "print(\"Contoh BREAK - berhenti ketika menemukan angka 7:\")\n",
    "for i in range(1, 11):\n",
    "    if i == 7:\n",
    "        print(f\"Menemukan angka {i}, berhenti!\")\n",
    "        break\n",
    "    print(f\"Angka: {i}\")\n",
    "\n",
    "print(\"\\nContoh CONTINUE - skip angka genap:\")\n",
    "for i in range(1, 11):\n",
    "    if i % 2 == 0:\n",
    "        continue  # Skip angka genap\n",
    "    print(f\"Angka ganjil: {i}\")\n",
    "\n",
    "print(\"\\nCombined break dan continue:\")\n",
    "for i in range(1, 21):\n",
    "    if i % 3 == 0:  # Skip kelipatan 3\n",
    "        continue\n",
    "    if i > 15:  # Berhenti setelah 15\n",
    "        break\n",
    "    print(f\"Angka: {i}\")\n"
   ]
  },
  {
   "cell_type": "code",
   "execution_count": 10,
   "id": "03db18cb",
   "metadata": {},
   "outputs": [
    {
     "name": "stdout",
     "output_type": "stream",
     "text": [
      "\n",
      "9. ELSE DALAM LOOP\n",
      "--------------------\n",
      "Mencari angka prima pertama > 20:\n",
      "Menemukan bilangan prima: 23\n",
      "\n",
      "While loop dengan else:\n",
      "Count: 0\n",
      "Count: 1\n",
      "Count: 2\n",
      "Loop selesai normal (tanpa break)\n"
     ]
    }
   ],
   "source": [
    "\n",
    "# ==================\n",
    "# 9. ELSE DALAM LOOP\n",
    "# ==================\n",
    "print(\"\\n9. ELSE DALAM LOOP\")\n",
    "print(\"-\" * 20)\n",
    "\n",
    "# Else dengan for loop\n",
    "print(\"Mencari angka prima pertama > 20:\")\n",
    "start = 21\n",
    "for num in range(start, 30):\n",
    "    for i in range(2, int(num ** 0.5) + 1):\n",
    "        if num % i == 0:\n",
    "            break\n",
    "    else:\n",
    "        print(f\"Menemukan bilangan prima: {num}\")\n",
    "        break\n",
    "else:\n",
    "    print(\"Tidak menemukan bilangan prima dalam range\")\n",
    "\n",
    "# Else dengan while loop\n",
    "print(\"\\nWhile loop dengan else:\")\n",
    "count = 0\n",
    "while count < 3:\n",
    "    print(f\"Count: {count}\")\n",
    "    count += 1\n",
    "else:\n",
    "    print(\"Loop selesai normal (tanpa break)\")\n"
   ]
  },
  {
   "cell_type": "code",
   "execution_count": 15,
   "id": "1c8f64f8",
   "metadata": {},
   "outputs": [
    {
     "name": "stdout",
     "output_type": "stream",
     "text": [
      "\n",
      "10. ENUMERATE() DAN ZIP()\n",
      "--------------------\n",
      "Menggunakan enumerate():\n",
      "1. nasi\n",
      "2. ayam\n",
      "3. sayur\n",
      "4. buah\n",
      "\n",
      "Menggunakan zip():\n",
      "Ali (Kelas A): 85\n",
      "Budi (Kelas B): 90\n",
      "Citra (Kelas A): 78\n",
      "Dina (Kelas B): 95\n"
     ]
    }
   ],
   "source": [
    "# ==================\n",
    "# 10. ENUMERATE() DAN ZIP()\n",
    "# ==================\n",
    "print(\"\\n10. ENUMERATE() DAN ZIP()\")\n",
    "print(\"-\" * 20)\n",
    "\n",
    "# Enumerate\n",
    "print(\"Menggunakan enumerate():\")\n",
    "makanan = [\"nasi\", \"ayam\", \"sayur\", \"buah\"]\n",
    "for index, item in enumerate(makanan, start=1):\n",
    "    print(f\"{index}. {item}\")\n",
    "\n",
    "# Zip\n",
    "print(\"\\nMenggunakan zip():\")\n",
    "nama_siswa = [\"Ali\", \"Budi\", \"Citra\", \"Dina\"]\n",
    "nilai_siswa = [85, 90, 78, 95]\n",
    "kelas = [\"A\", \"B\", \"A\", \"B\"]\n",
    "\n",
    "for nama, nilai, kls in zip(nama_siswa, nilai_siswa, kelas):\n",
    "    print(f\"{nama} (Kelas {kls}): {nilai}\")"
   ]
  },
  {
   "cell_type": "code",
   "execution_count": 14,
   "id": "fb46b746",
   "metadata": {},
   "outputs": [
    {
     "name": "stdout",
     "output_type": "stream",
     "text": [
      "\n",
      "11. LIST COMPREHENSION\n",
      "--------------------\n",
      "List comprehension dasar:\n",
      "Kuadrat 1-5: [1, 4, 9, 16, 25]\n",
      "List comprehension dengan kondisi:\n",
      "Kuadrat bilangan genap 1-10: [4, 16, 36, 64, 100]\n",
      "List comprehension dari string:\n",
      "Vokal dalam 'Python Programming': ['o', 'o', 'a', 'i']\n",
      "Nested list comprehension untuk matrix:\n",
      "Matrix 3x3:\n",
      "[1, 2, 3]\n",
      "[2, 4, 6]\n",
      "[3, 6, 9]\n"
     ]
    }
   ],
   "source": [
    "# ==================\n",
    "# 11. LIST COMPREHENSION\n",
    "# ==================\n",
    "print(\"\\n11. LIST COMPREHENSION\")\n",
    "print(\"-\" * 20)\n",
    "\n",
    "# Basic list comprehension\n",
    "print(\"List comprehension dasar:\")\n",
    "squares = [x**2 for x in range(1, 6)]\n",
    "print(f\"Kuadrat 1-5: {squares}\")\n",
    "\n",
    "# List comprehension dengan kondisi\n",
    "print(\"List comprehension dengan kondisi:\")\n",
    "even_squares = [x**2 for x in range(1, 11) if x % 2 == 0]\n",
    "print(f\"Kuadrat bilangan genap 1-10: {even_squares}\")\n",
    "\n",
    "# List comprehension dari string\n",
    "print(\"List comprehension dari string:\")\n",
    "nama = \"Python Programming\"\n",
    "vokal_dalam_nama = [huruf for huruf in nama if huruf.lower() in 'aeiou']\n",
    "print(f\"Vokal dalam '{nama}': {vokal_dalam_nama}\")\n",
    "\n",
    "# Nested list comprehension\n",
    "print(\"Nested list comprehension untuk matrix:\")\n",
    "matrix = [[i*j for j in range(1, 4)] for i in range(1, 4)]\n",
    "print(\"Matrix 3x3:\")\n",
    "for row in matrix:\n",
    "    print(row)"
   ]
  },
  {
   "cell_type": "code",
   "execution_count": null,
   "id": "ce54fcfb",
   "metadata": {},
   "outputs": [
    {
     "name": "stdout",
     "output_type": "stream",
     "text": [
      "\n",
      "12. DICTIONARY DAN SET COMPREHENSION\n",
      "--------------------\n",
      "Dictionary comprehension:\n",
      "Dictionary kuadrat: {1: 1, 2: 4, 3: 9, 4: 16, 5: 25}\n",
      "Set comprehension:\n",
      "Karakter unik dalam 'hello world': {'o', 'l', 'd', 'e', 'w', 'r', 'h'}\n"
     ]
    }
   ],
   "source": [
    "# ==================\n",
    "# 12. DICTIONARY DAN SET COMPREHENSION\n",
    "# ==================\n",
    "print(\"\\n12. DICTIONARY DAN SET COMPREHENSION\")\n",
    "print(\"-\" * 20)\n",
    "\n",
    "# Dictionary comprehension\n",
    "print(\"Dictionary comprehension:\")\n",
    "angka = [1, 2, 3, 4, 5]\n",
    "dict_kuadrat = {x: x**2 for x in angka}\n",
    "print(f\"Dictionary kuadrat: {dict_kuadrat}\")\n",
    "\n",
    "# Set comprehension\n",
    "print(\"Set comprehension:\")\n",
    "kalimat = \"hello world\"\n",
    "unique_chars = {char for char in kalimat if char != ' '}\n",
    "print(f\"Karakter unik dalam '{kalimat}': {unique_chars}\")"
   ]
  },
  {
   "cell_type": "markdown",
   "id": "3fc81856",
   "metadata": {},
   "source": [
    "# TIPS DAN BEST PRACTICES\n",
    "\n",
    "1. Gunakan for loop untuk iterasi dengan jumlah yang diketahui\n",
    "2. Gunakan while loop untuk iterasi berdasarkan kondisi\n",
    "3. Gunakan enumerate() ketika butuh index dan value\n",
    "4. Gunakan zip() untuk mengiterasi multiple sequences\n",
    "5. Gunakan list comprehension untuk kode yang lebih singkat\n",
    "6. Hati-hati dengan infinite loop pada while\n",
    "7. Gunakan break dan continue dengan bijak\n",
    "8. Pertimbangkan generator untuk data yang besar\n",
    "9. Hindari nested loop yang terlalu dalam\n",
    "10. Gunakan meaningful variable names dalam loop"
   ]
  },
  {
   "cell_type": "markdown",
   "id": "8db29077",
   "metadata": {},
   "source": [
    "# LATIHAN\n",
    "\n",
    "Coba buat program dengan loops untuk:\n",
    "1. Menghitung faktorial suatu angka\n",
    "2. Mencari bilangan prima dalam range tertentu\n",
    "3. Membalik string tanpa menggunakan [::-1]\n",
    "4. Membuat pattern segitiga dengan angka\n",
    "5. Simulasi ATM dengan menu berulang\n",
    "6. Menghitung frekuensi karakter dalam string\n",
    "7. Validasi input dengan while loop\n",
    "8. Game sederhana (rock paper scissors)\n"
   ]
  },
  {
   "cell_type": "markdown",
   "id": "c9ad6405",
   "metadata": {},
   "source": [
    "# NOTE: PERFORMA COMPARISON"
   ]
  },
  {
   "cell_type": "code",
   "execution_count": 1,
   "id": "1d516ce6",
   "metadata": {},
   "outputs": [
    {
     "name": "stdout",
     "output_type": "stream",
     "text": [
      "\n",
      "==================================================\n",
      "PERFORMA COMPARISON:\n",
      "==================================================\n",
      "Testing performance (100,000 elements):\n",
      "Traditional loop: 0.008244 seconds\n",
      "List comprehension: 0.007790 seconds\n",
      "Filter + map: 0.014967 seconds\n",
      "List comprehension adalah 1.06x lebih cepat\n"
     ]
    }
   ],
   "source": [
    "# ==================\n",
    "# PERFORMA COMPARISON\n",
    "# ==================\n",
    "print(\"\\n\" + \"=\"*50)\n",
    "print(\"PERFORMA COMPARISON:\")\n",
    "print(\"=\"*50)\n",
    "\n",
    "import time\n",
    "\n",
    "def test_performance():\n",
    "    \"\"\"\n",
    "    Membandingkan performa berbagai metode loop\n",
    "    \"\"\"\n",
    "    data = list(range(100000))\n",
    "    \n",
    "    # Method 1: Traditional for loop\n",
    "    start_time = time.time()\n",
    "    result1 = []\n",
    "    for i in data:\n",
    "        if i % 2 == 0:\n",
    "            result1.append(i * 2)\n",
    "    time1 = time.time() - start_time\n",
    "    \n",
    "    # Method 2: List comprehension\n",
    "    start_time = time.time()\n",
    "    result2 = [i * 2 for i in data if i % 2 == 0]\n",
    "    time2 = time.time() - start_time\n",
    "    \n",
    "    # Method 3: Filter + map\n",
    "    start_time = time.time()\n",
    "    result3 = list(map(lambda x: x * 2, filter(lambda x: x % 2 == 0, data)))\n",
    "    time3 = time.time() - start_time\n",
    "    \n",
    "    print(f\"Traditional loop: {time1:.6f} seconds\")\n",
    "    print(f\"List comprehension: {time2:.6f} seconds\")\n",
    "    print(f\"Filter + map: {time3:.6f} seconds\")\n",
    "    print(f\"List comprehension adalah {time1/time2:.2f}x lebih cepat\")\n",
    "\n",
    "print(\"Testing performance (100,000 elements):\")\n",
    "test_performance()\n"
   ]
  }
 ],
 "metadata": {
  "kernelspec": {
   "display_name": ".env",
   "language": "python",
   "name": "python3"
  },
  "language_info": {
   "codemirror_mode": {
    "name": "ipython",
    "version": 3
   },
   "file_extension": ".py",
   "mimetype": "text/x-python",
   "name": "python",
   "nbconvert_exporter": "python",
   "pygments_lexer": "ipython3",
   "version": "3.11.4"
  }
 },
 "nbformat": 4,
 "nbformat_minor": 5
}
